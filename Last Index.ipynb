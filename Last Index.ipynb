{
 "cells": [
  {
   "cell_type": "markdown",
   "metadata": {},
   "source": [
    "## Last Index Of Number Question:\n",
    "Given an array of length N and an integer x, you need to find and return the last index of integer x present in the array. Return -1 if it is not present in the array.\n",
    "Last index means - if x is present multiple times in the array, return the index at which x comes last in the array.\n",
    "You should start traversing your array from 0, not from (N - 1).\n",
    "Do this recursively. Indexing in the array starts from 0.\n",
    "\n",
    "### Input Format :\n",
    "\n",
    "Line 1 : An Integer N i.e. size of array\n",
    "\n",
    "Line 2 : N integers which are elements of the array, separated by spaces\n",
    "\n",
    "Line 3 : Integer x\n",
    "\n",
    "### Output Format :\n",
    "\n",
    "last index or -1\n",
    "\n",
    "### Constraints :\n",
    "\n",
    "1 <= N <= 10^3\n",
    "\n",
    "### Sample Input :\n",
    "\n",
    "4\n",
    "\n",
    "9 8 10 8\n",
    "\n",
    "8\n",
    "\n",
    "### Sample Output :\n",
    "\n",
    "3"
   ]
  },
  {
   "cell_type": "code",
   "execution_count": 5,
   "metadata": {},
   "outputs": [
    {
     "name": "stdout",
     "output_type": "stream",
     "text": [
      "4 \n",
      "9 4 5 4\n",
      "4\n",
      "3\n"
     ]
    }
   ],
   "source": [
    "def lastIndex(arr, x):\n",
    "    l = len(arr)\n",
    "    if l == 0:\n",
    "        return -1\n",
    "    \n",
    "    smallerOutput = lastIndex(arr[1:], x)\n",
    "    if smallerOutput != -1:\n",
    "        return smallerOutput + 1\n",
    "    else:\n",
    "        if arr[0] == x:\n",
    "            return smallerOutput + 1\n",
    "        \n",
    "        else:\n",
    "            return -1\n",
    "    \n",
    "   \n",
    "\n",
    "# Main\n",
    "from sys import setrecursionlimit\n",
    "setrecursionlimit(11000)\n",
    "n=int(input())\n",
    "arr=list(int(i) for i in input().strip().split(' '))\n",
    "x=int(input())\n",
    "print(lastIndex(arr, x))\n"
   ]
  },
  {
   "cell_type": "code",
   "execution_count": 6,
   "metadata": {},
   "outputs": [
    {
     "name": "stdout",
     "output_type": "stream",
     "text": [
      "4\n",
      "2 4 2 5\n",
      "2\n",
      "2\n"
     ]
    }
   ],
   "source": [
    "def lastIndex(arr, x, si):\n",
    "    l = len(arr)\n",
    "    if l == 0 or si == l-1:\n",
    "        return -1\n",
    "    \n",
    "    smallerOutput = lastIndex(arr, x, si+1)\n",
    "    if smallerOutput != -1:\n",
    "        return smallerOutput \n",
    "    else:\n",
    "        if arr[si] == x:\n",
    "            return si\n",
    "        \n",
    "        else:\n",
    "            return -1\n",
    "    \n",
    "   \n",
    "\n",
    "# Main\n",
    "from sys import setrecursionlimit\n",
    "setrecursionlimit(11000)\n",
    "n=int(input())\n",
    "arr=list(int(i) for i in input().strip().split(' '))\n",
    "x=int(input())\n",
    "print(lastIndex(arr, x, 0))\n"
   ]
  }
 ],
 "metadata": {
  "kernelspec": {
   "display_name": "Python 3",
   "language": "python",
   "name": "python3"
  },
  "language_info": {
   "codemirror_mode": {
    "name": "ipython",
    "version": 3
   },
   "file_extension": ".py",
   "mimetype": "text/x-python",
   "name": "python",
   "nbconvert_exporter": "python",
   "pygments_lexer": "ipython3",
   "version": "3.7.3"
  }
 },
 "nbformat": 4,
 "nbformat_minor": 2
}
