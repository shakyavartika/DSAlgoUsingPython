{
 "cells": [
  {
   "cell_type": "markdown",
   "metadata": {},
   "source": [
    "## First Index of Number - Question:\n",
    "Given an array of length N and an integer x, you need to find and return the first index of integer x present in the array. \n",
    "\n",
    "Return -1 if it is not present in the array.\n",
    "\n",
    "First index means, the index of first occurrence of x in the input array.\n",
    "\n",
    "Do this recursively. Indexing in the array starts from 0.\n",
    "\n",
    "### Input Format :\n",
    "\n",
    "Line 1 : An Integer N i.e. size of array\n",
    "\n",
    "Line 2 : N integers which are elements of the array, separated by spaces\n",
    "\n",
    "Line 3 : Integer x\n",
    "\n",
    "### Output Format :\n",
    "\n",
    "first index or -1\n",
    "\n",
    "### Constraints :\n",
    "\n",
    "1 <= N <= 10^3\n",
    "\n",
    "### Sample Input :\n",
    "4\n",
    "\n",
    "9 8 10 8\n",
    "\n",
    "8\n",
    "\n",
    "### Sample Output :\n",
    "\n",
    "1"
   ]
  },
  {
   "cell_type": "code",
   "execution_count": 1,
   "metadata": {},
   "outputs": [
    {
     "name": "stdout",
     "output_type": "stream",
     "text": [
      "1 2 3 45 4 5\n",
      "4\n",
      "4\n"
     ]
    }
   ],
   "source": [
    "def firstIndex(arr, x):\n",
    "    l = len(arr)\n",
    "    if l == 0:\n",
    "        return -1\n",
    "    \n",
    "    if arr[0] == x:\n",
    "        return 0\n",
    "    smallerOutput = firstIndex(arr[1:], x)\n",
    "    if smallerOutput == -1:\n",
    "        return -1\n",
    "    else:\n",
    "        return smallerOutput+1\n",
    "\n",
    "# Main\n",
    "from sys import setrecursionlimit\n",
    "setrecursionlimit(11000)\n",
    "n=int(input())\n",
    "arr=list(int(i) for i in input().strip().split(' '))\n",
    "x=int(input())\n",
    "print(firstIndex(arr, x))\n"
   ]
  },
  {
   "cell_type": "raw",
   "metadata": {},
   "source": [
    "def firstIndex(arr, x, si):\n",
    "    l = len(arr)\n",
    "    if l == 0 or si == l-1:\n",
    "        return -1\n",
    "    \n",
    "    if arr[si] == x:\n",
    "        return si\n",
    "    \n",
    "    return firstIndex(arr, x, si+1)\n",
    "\n",
    "# Main\n",
    "from sys import setrecursionlimit\n",
    "setrecursionlimit(11000)\n",
    "n=int(input())\n",
    "arr=list(int(i) for i in input().strip().split(' '))\n",
    "x=int(input())\n",
    "print(firstIndex(arr, x, 0))\n"
   ]
  }
 ],
 "metadata": {
  "kernelspec": {
   "display_name": "Python 3",
   "language": "python",
   "name": "python3"
  },
  "language_info": {
   "codemirror_mode": {
    "name": "ipython",
    "version": 3
   },
   "file_extension": ".py",
   "mimetype": "text/x-python",
   "name": "python",
   "nbconvert_exporter": "python",
   "pygments_lexer": "ipython3",
   "version": "3.7.3"
  }
 },
 "nbformat": 4,
 "nbformat_minor": 2
}
