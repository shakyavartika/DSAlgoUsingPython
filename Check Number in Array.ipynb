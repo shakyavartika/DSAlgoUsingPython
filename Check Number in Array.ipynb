{
 "cells": [
  {
   "cell_type": "markdown",
   "metadata": {},
   "source": [
    "## Check Number in Array:\n",
    "Given an array of length N and an integer x, you need to find if x is present in the array or not. Return true or false.\n",
    "Do this recursively.\n",
    "### Input Format :\n",
    "\n",
    "Line 1 : An Integer N i.e. size of array\n",
    "\n",
    "Line 2 : N integers which are elements of the array, separated by spaces\n",
    "\n",
    "Line 3 : Integer x\n",
    "\n",
    "### Output Format :\n",
    "\n",
    "true or false\n",
    "\n",
    "### Constraints :\n",
    "\n",
    "1 <= N <= 10^3\n",
    "\n",
    "### Sample Input :\n",
    "\n",
    "3\n",
    "\n",
    "9 8 10\n",
    "\n",
    "8\n",
    "\n",
    "### Sample Output :\n",
    "\n",
    "true"
   ]
  },
  {
   "cell_type": "code",
   "execution_count": 6,
   "metadata": {},
   "outputs": [
    {
     "name": "stdout",
     "output_type": "stream",
     "text": [
      "4\n",
      "2 4 6 8\n",
      "9\n",
      "false\n"
     ]
    }
   ],
   "source": [
    "def checkNumber(arr, x):\n",
    "    if len(arr) == 0:\n",
    "        return False\n",
    "    \n",
    "    if (arr[0] == x):\n",
    "        return True\n",
    "    \n",
    "    return checkNumber(arr[1:], x)\n",
    "    \n",
    "\n",
    "# Main\n",
    "from sys import setrecursionlimit\n",
    "setrecursionlimit(11000)\n",
    "n=int(input())\n",
    "arr=list(int(i) for i in input().strip().split(' '))\n",
    "x=int(input())\n",
    "if checkNumber(arr, x):\n",
    "    print('true')\n",
    "else:\n",
    "    print('false')\n"
   ]
  }
 ],
 "metadata": {
  "kernelspec": {
   "display_name": "Python 3",
   "language": "python",
   "name": "python3"
  },
  "language_info": {
   "codemirror_mode": {
    "name": "ipython",
    "version": 3
   },
   "file_extension": ".py",
   "mimetype": "text/x-python",
   "name": "python",
   "nbconvert_exporter": "python",
   "pygments_lexer": "ipython3",
   "version": "3.7.3"
  }
 },
 "nbformat": 4,
 "nbformat_minor": 2
}
